{
  "nbformat": 4,
  "nbformat_minor": 0,
  "metadata": {
    "colab": {
      "provenance": [],
      "collapsed_sections": [
        "DLt7S3CYjlpp"
      ],
      "include_colab_link": true
    },
    "kernelspec": {
      "name": "python3",
      "display_name": "Python 3"
    },
    "language_info": {
      "name": "python"
    }
  },
  "cells": [
    {
      "cell_type": "markdown",
      "metadata": {
        "id": "view-in-github",
        "colab_type": "text"
      },
      "source": [
        "<a href=\"https://colab.research.google.com/github/Erick-Viana/alura/blob/main/AluraStoreBr.ipynb\" target=\"_parent\"><img src=\"https://colab.research.google.com/assets/colab-badge.svg\" alt=\"Open In Colab\"/></a>"
      ]
    },
    {
      "cell_type": "markdown",
      "source": [
        "### Importação dos dados\n",
        "\n"
      ],
      "metadata": {
        "id": "RhEdWd9YUR6H"
      }
    },
    {
      "cell_type": "code",
      "execution_count": 7,
      "metadata": {
        "colab": {
          "base_uri": "https://localhost:8080/",
          "height": 365
        },
        "id": "T3EvaeQ_INIL",
        "outputId": "768521a5-2e7b-4f52-ad8f-d8ca84bed350"
      },
      "outputs": [
        {
          "output_type": "execute_result",
          "data": {
            "text/plain": [
              "                 Produto Categoria do Produto    Preço      Frete  \\\n",
              "0     Assistente virtual          eletronicos   219.08   9.249790   \n",
              "1         Mesa de jantar               moveis   256.35  11.234305   \n",
              "2      Jogo de tabuleiro           brinquedos   279.51  21.262681   \n",
              "3            Micro-ondas     eletrodomesticos  1009.99  54.667344   \n",
              "4  Cadeira de escritório               moveis   446.99  26.964689   \n",
              "\n",
              "  Data da Compra        Vendedor Local da compra  Avaliação da compra  \\\n",
              "0     16/01/2021     Pedro Gomes              SP                    4   \n",
              "1     18/05/2022  Beatriz Moraes              RJ                    1   \n",
              "2     15/03/2021      João Souza              DF                    1   \n",
              "3     03/05/2022      João Souza              RS                    4   \n",
              "4     07/11/2020   Larissa Alves              MG                    5   \n",
              "\n",
              "  Tipo de pagamento  Quantidade de parcelas    lat    lon  \n",
              "0    cartao_credito                       8 -22.19 -48.79  \n",
              "1    cartao_credito                       4 -22.25 -42.66  \n",
              "2    cartao_credito                       1 -15.83 -47.86  \n",
              "3            boleto                       1 -30.17 -53.50  \n",
              "4            boleto                       1 -18.10 -44.38  "
            ],
            "text/html": [
              "\n",
              "  <div id=\"df-d1397c91-2eee-4894-8b77-5f8af8a50ea0\" class=\"colab-df-container\">\n",
              "    <div>\n",
              "<style scoped>\n",
              "    .dataframe tbody tr th:only-of-type {\n",
              "        vertical-align: middle;\n",
              "    }\n",
              "\n",
              "    .dataframe tbody tr th {\n",
              "        vertical-align: top;\n",
              "    }\n",
              "\n",
              "    .dataframe thead th {\n",
              "        text-align: right;\n",
              "    }\n",
              "</style>\n",
              "<table border=\"1\" class=\"dataframe\">\n",
              "  <thead>\n",
              "    <tr style=\"text-align: right;\">\n",
              "      <th></th>\n",
              "      <th>Produto</th>\n",
              "      <th>Categoria do Produto</th>\n",
              "      <th>Preço</th>\n",
              "      <th>Frete</th>\n",
              "      <th>Data da Compra</th>\n",
              "      <th>Vendedor</th>\n",
              "      <th>Local da compra</th>\n",
              "      <th>Avaliação da compra</th>\n",
              "      <th>Tipo de pagamento</th>\n",
              "      <th>Quantidade de parcelas</th>\n",
              "      <th>lat</th>\n",
              "      <th>lon</th>\n",
              "    </tr>\n",
              "  </thead>\n",
              "  <tbody>\n",
              "    <tr>\n",
              "      <th>0</th>\n",
              "      <td>Assistente virtual</td>\n",
              "      <td>eletronicos</td>\n",
              "      <td>219.08</td>\n",
              "      <td>9.249790</td>\n",
              "      <td>16/01/2021</td>\n",
              "      <td>Pedro Gomes</td>\n",
              "      <td>SP</td>\n",
              "      <td>4</td>\n",
              "      <td>cartao_credito</td>\n",
              "      <td>8</td>\n",
              "      <td>-22.19</td>\n",
              "      <td>-48.79</td>\n",
              "    </tr>\n",
              "    <tr>\n",
              "      <th>1</th>\n",
              "      <td>Mesa de jantar</td>\n",
              "      <td>moveis</td>\n",
              "      <td>256.35</td>\n",
              "      <td>11.234305</td>\n",
              "      <td>18/05/2022</td>\n",
              "      <td>Beatriz Moraes</td>\n",
              "      <td>RJ</td>\n",
              "      <td>1</td>\n",
              "      <td>cartao_credito</td>\n",
              "      <td>4</td>\n",
              "      <td>-22.25</td>\n",
              "      <td>-42.66</td>\n",
              "    </tr>\n",
              "    <tr>\n",
              "      <th>2</th>\n",
              "      <td>Jogo de tabuleiro</td>\n",
              "      <td>brinquedos</td>\n",
              "      <td>279.51</td>\n",
              "      <td>21.262681</td>\n",
              "      <td>15/03/2021</td>\n",
              "      <td>João Souza</td>\n",
              "      <td>DF</td>\n",
              "      <td>1</td>\n",
              "      <td>cartao_credito</td>\n",
              "      <td>1</td>\n",
              "      <td>-15.83</td>\n",
              "      <td>-47.86</td>\n",
              "    </tr>\n",
              "    <tr>\n",
              "      <th>3</th>\n",
              "      <td>Micro-ondas</td>\n",
              "      <td>eletrodomesticos</td>\n",
              "      <td>1009.99</td>\n",
              "      <td>54.667344</td>\n",
              "      <td>03/05/2022</td>\n",
              "      <td>João Souza</td>\n",
              "      <td>RS</td>\n",
              "      <td>4</td>\n",
              "      <td>boleto</td>\n",
              "      <td>1</td>\n",
              "      <td>-30.17</td>\n",
              "      <td>-53.50</td>\n",
              "    </tr>\n",
              "    <tr>\n",
              "      <th>4</th>\n",
              "      <td>Cadeira de escritório</td>\n",
              "      <td>moveis</td>\n",
              "      <td>446.99</td>\n",
              "      <td>26.964689</td>\n",
              "      <td>07/11/2020</td>\n",
              "      <td>Larissa Alves</td>\n",
              "      <td>MG</td>\n",
              "      <td>5</td>\n",
              "      <td>boleto</td>\n",
              "      <td>1</td>\n",
              "      <td>-18.10</td>\n",
              "      <td>-44.38</td>\n",
              "    </tr>\n",
              "  </tbody>\n",
              "</table>\n",
              "</div>\n",
              "    <div class=\"colab-df-buttons\">\n",
              "\n",
              "  <div class=\"colab-df-container\">\n",
              "    <button class=\"colab-df-convert\" onclick=\"convertToInteractive('df-d1397c91-2eee-4894-8b77-5f8af8a50ea0')\"\n",
              "            title=\"Convert this dataframe to an interactive table.\"\n",
              "            style=\"display:none;\">\n",
              "\n",
              "  <svg xmlns=\"http://www.w3.org/2000/svg\" height=\"24px\" viewBox=\"0 -960 960 960\">\n",
              "    <path d=\"M120-120v-720h720v720H120Zm60-500h600v-160H180v160Zm220 220h160v-160H400v160Zm0 220h160v-160H400v160ZM180-400h160v-160H180v160Zm440 0h160v-160H620v160ZM180-180h160v-160H180v160Zm440 0h160v-160H620v160Z\"/>\n",
              "  </svg>\n",
              "    </button>\n",
              "\n",
              "  <style>\n",
              "    .colab-df-container {\n",
              "      display:flex;\n",
              "      gap: 12px;\n",
              "    }\n",
              "\n",
              "    .colab-df-convert {\n",
              "      background-color: #E8F0FE;\n",
              "      border: none;\n",
              "      border-radius: 50%;\n",
              "      cursor: pointer;\n",
              "      display: none;\n",
              "      fill: #1967D2;\n",
              "      height: 32px;\n",
              "      padding: 0 0 0 0;\n",
              "      width: 32px;\n",
              "    }\n",
              "\n",
              "    .colab-df-convert:hover {\n",
              "      background-color: #E2EBFA;\n",
              "      box-shadow: 0px 1px 2px rgba(60, 64, 67, 0.3), 0px 1px 3px 1px rgba(60, 64, 67, 0.15);\n",
              "      fill: #174EA6;\n",
              "    }\n",
              "\n",
              "    .colab-df-buttons div {\n",
              "      margin-bottom: 4px;\n",
              "    }\n",
              "\n",
              "    [theme=dark] .colab-df-convert {\n",
              "      background-color: #3B4455;\n",
              "      fill: #D2E3FC;\n",
              "    }\n",
              "\n",
              "    [theme=dark] .colab-df-convert:hover {\n",
              "      background-color: #434B5C;\n",
              "      box-shadow: 0px 1px 3px 1px rgba(0, 0, 0, 0.15);\n",
              "      filter: drop-shadow(0px 1px 2px rgba(0, 0, 0, 0.3));\n",
              "      fill: #FFFFFF;\n",
              "    }\n",
              "  </style>\n",
              "\n",
              "    <script>\n",
              "      const buttonEl =\n",
              "        document.querySelector('#df-d1397c91-2eee-4894-8b77-5f8af8a50ea0 button.colab-df-convert');\n",
              "      buttonEl.style.display =\n",
              "        google.colab.kernel.accessAllowed ? 'block' : 'none';\n",
              "\n",
              "      async function convertToInteractive(key) {\n",
              "        const element = document.querySelector('#df-d1397c91-2eee-4894-8b77-5f8af8a50ea0');\n",
              "        const dataTable =\n",
              "          await google.colab.kernel.invokeFunction('convertToInteractive',\n",
              "                                                    [key], {});\n",
              "        if (!dataTable) return;\n",
              "\n",
              "        const docLinkHtml = 'Like what you see? Visit the ' +\n",
              "          '<a target=\"_blank\" href=https://colab.research.google.com/notebooks/data_table.ipynb>data table notebook</a>'\n",
              "          + ' to learn more about interactive tables.';\n",
              "        element.innerHTML = '';\n",
              "        dataTable['output_type'] = 'display_data';\n",
              "        await google.colab.output.renderOutput(dataTable, element);\n",
              "        const docLink = document.createElement('div');\n",
              "        docLink.innerHTML = docLinkHtml;\n",
              "        element.appendChild(docLink);\n",
              "      }\n",
              "    </script>\n",
              "  </div>\n",
              "\n",
              "\n",
              "    <div id=\"df-3d70c5bc-2b06-496a-b1be-926b08db8b47\">\n",
              "      <button class=\"colab-df-quickchart\" onclick=\"quickchart('df-3d70c5bc-2b06-496a-b1be-926b08db8b47')\"\n",
              "                title=\"Suggest charts\"\n",
              "                style=\"display:none;\">\n",
              "\n",
              "<svg xmlns=\"http://www.w3.org/2000/svg\" height=\"24px\"viewBox=\"0 0 24 24\"\n",
              "     width=\"24px\">\n",
              "    <g>\n",
              "        <path d=\"M19 3H5c-1.1 0-2 .9-2 2v14c0 1.1.9 2 2 2h14c1.1 0 2-.9 2-2V5c0-1.1-.9-2-2-2zM9 17H7v-7h2v7zm4 0h-2V7h2v10zm4 0h-2v-4h2v4z\"/>\n",
              "    </g>\n",
              "</svg>\n",
              "      </button>\n",
              "\n",
              "<style>\n",
              "  .colab-df-quickchart {\n",
              "      --bg-color: #E8F0FE;\n",
              "      --fill-color: #1967D2;\n",
              "      --hover-bg-color: #E2EBFA;\n",
              "      --hover-fill-color: #174EA6;\n",
              "      --disabled-fill-color: #AAA;\n",
              "      --disabled-bg-color: #DDD;\n",
              "  }\n",
              "\n",
              "  [theme=dark] .colab-df-quickchart {\n",
              "      --bg-color: #3B4455;\n",
              "      --fill-color: #D2E3FC;\n",
              "      --hover-bg-color: #434B5C;\n",
              "      --hover-fill-color: #FFFFFF;\n",
              "      --disabled-bg-color: #3B4455;\n",
              "      --disabled-fill-color: #666;\n",
              "  }\n",
              "\n",
              "  .colab-df-quickchart {\n",
              "    background-color: var(--bg-color);\n",
              "    border: none;\n",
              "    border-radius: 50%;\n",
              "    cursor: pointer;\n",
              "    display: none;\n",
              "    fill: var(--fill-color);\n",
              "    height: 32px;\n",
              "    padding: 0;\n",
              "    width: 32px;\n",
              "  }\n",
              "\n",
              "  .colab-df-quickchart:hover {\n",
              "    background-color: var(--hover-bg-color);\n",
              "    box-shadow: 0 1px 2px rgba(60, 64, 67, 0.3), 0 1px 3px 1px rgba(60, 64, 67, 0.15);\n",
              "    fill: var(--button-hover-fill-color);\n",
              "  }\n",
              "\n",
              "  .colab-df-quickchart-complete:disabled,\n",
              "  .colab-df-quickchart-complete:disabled:hover {\n",
              "    background-color: var(--disabled-bg-color);\n",
              "    fill: var(--disabled-fill-color);\n",
              "    box-shadow: none;\n",
              "  }\n",
              "\n",
              "  .colab-df-spinner {\n",
              "    border: 2px solid var(--fill-color);\n",
              "    border-color: transparent;\n",
              "    border-bottom-color: var(--fill-color);\n",
              "    animation:\n",
              "      spin 1s steps(1) infinite;\n",
              "  }\n",
              "\n",
              "  @keyframes spin {\n",
              "    0% {\n",
              "      border-color: transparent;\n",
              "      border-bottom-color: var(--fill-color);\n",
              "      border-left-color: var(--fill-color);\n",
              "    }\n",
              "    20% {\n",
              "      border-color: transparent;\n",
              "      border-left-color: var(--fill-color);\n",
              "      border-top-color: var(--fill-color);\n",
              "    }\n",
              "    30% {\n",
              "      border-color: transparent;\n",
              "      border-left-color: var(--fill-color);\n",
              "      border-top-color: var(--fill-color);\n",
              "      border-right-color: var(--fill-color);\n",
              "    }\n",
              "    40% {\n",
              "      border-color: transparent;\n",
              "      border-right-color: var(--fill-color);\n",
              "      border-top-color: var(--fill-color);\n",
              "    }\n",
              "    60% {\n",
              "      border-color: transparent;\n",
              "      border-right-color: var(--fill-color);\n",
              "    }\n",
              "    80% {\n",
              "      border-color: transparent;\n",
              "      border-right-color: var(--fill-color);\n",
              "      border-bottom-color: var(--fill-color);\n",
              "    }\n",
              "    90% {\n",
              "      border-color: transparent;\n",
              "      border-bottom-color: var(--fill-color);\n",
              "    }\n",
              "  }\n",
              "</style>\n",
              "\n",
              "      <script>\n",
              "        async function quickchart(key) {\n",
              "          const quickchartButtonEl =\n",
              "            document.querySelector('#' + key + ' button');\n",
              "          quickchartButtonEl.disabled = true;  // To prevent multiple clicks.\n",
              "          quickchartButtonEl.classList.add('colab-df-spinner');\n",
              "          try {\n",
              "            const charts = await google.colab.kernel.invokeFunction(\n",
              "                'suggestCharts', [key], {});\n",
              "          } catch (error) {\n",
              "            console.error('Error during call to suggestCharts:', error);\n",
              "          }\n",
              "          quickchartButtonEl.classList.remove('colab-df-spinner');\n",
              "          quickchartButtonEl.classList.add('colab-df-quickchart-complete');\n",
              "        }\n",
              "        (() => {\n",
              "          let quickchartButtonEl =\n",
              "            document.querySelector('#df-3d70c5bc-2b06-496a-b1be-926b08db8b47 button');\n",
              "          quickchartButtonEl.style.display =\n",
              "            google.colab.kernel.accessAllowed ? 'block' : 'none';\n",
              "        })();\n",
              "      </script>\n",
              "    </div>\n",
              "\n",
              "    </div>\n",
              "  </div>\n"
            ],
            "application/vnd.google.colaboratory.intrinsic+json": {
              "type": "dataframe",
              "variable_name": "loja",
              "summary": "{\n  \"name\": \"loja\",\n  \"rows\": 2359,\n  \"fields\": [\n    {\n      \"column\": \"Produto\",\n      \"properties\": {\n        \"dtype\": \"category\",\n        \"num_unique_values\": 51,\n        \"samples\": [\n          \"Viol\\u00e3o\",\n          \"Bola de basquete\",\n          \"Smartwatch\"\n        ],\n        \"semantic_type\": \"\",\n        \"description\": \"\"\n      }\n    },\n    {\n      \"column\": \"Categoria do Produto\",\n      \"properties\": {\n        \"dtype\": \"category\",\n        \"num_unique_values\": 8,\n        \"samples\": [\n          \"moveis\",\n          \"esporte e lazer\",\n          \"eletronicos\"\n        ],\n        \"semantic_type\": \"\",\n        \"description\": \"\"\n      }\n    },\n    {\n      \"column\": \"Pre\\u00e7o\",\n      \"properties\": {\n        \"dtype\": \"number\",\n        \"std\": 819.5827782539145,\n        \"min\": 10.07,\n        \"max\": 3969.38,\n        \"num_unique_values\": 2315,\n        \"samples\": [\n          446.11,\n          107.31,\n          65.86\n        ],\n        \"semantic_type\": \"\",\n        \"description\": \"\"\n      }\n    },\n    {\n      \"column\": \"Frete\",\n      \"properties\": {\n        \"dtype\": \"number\",\n        \"std\": 43.814183327408166,\n        \"min\": 0.0,\n        \"max\": 214.3770604781,\n        \"num_unique_values\": 2149,\n        \"samples\": [\n          83.815279607,\n          16.069664669,\n          14.0344876928\n        ],\n        \"semantic_type\": \"\",\n        \"description\": \"\"\n      }\n    },\n    {\n      \"column\": \"Data da Compra\",\n      \"properties\": {\n        \"dtype\": \"object\",\n        \"num_unique_values\": 1018,\n        \"samples\": [\n          \"15/09/2022\",\n          \"03/06/2020\",\n          \"06/11/2021\"\n        ],\n        \"semantic_type\": \"\",\n        \"description\": \"\"\n      }\n    },\n    {\n      \"column\": \"Vendedor\",\n      \"properties\": {\n        \"dtype\": \"category\",\n        \"num_unique_values\": 14,\n        \"samples\": [\n          \"Juliana Costa\",\n          \"Mariana Ferreira\",\n          \"Pedro Gomes\"\n        ],\n        \"semantic_type\": \"\",\n        \"description\": \"\"\n      }\n    },\n    {\n      \"column\": \"Local da compra\",\n      \"properties\": {\n        \"dtype\": \"category\",\n        \"num_unique_values\": 26,\n        \"samples\": [\n          \"TO\",\n          \"RN\",\n          \"SP\"\n        ],\n        \"semantic_type\": \"\",\n        \"description\": \"\"\n      }\n    },\n    {\n      \"column\": \"Avalia\\u00e7\\u00e3o da compra\",\n      \"properties\": {\n        \"dtype\": \"number\",\n        \"std\": 1,\n        \"min\": 1,\n        \"max\": 5,\n        \"num_unique_values\": 5,\n        \"samples\": [\n          1,\n          2,\n          5\n        ],\n        \"semantic_type\": \"\",\n        \"description\": \"\"\n      }\n    },\n    {\n      \"column\": \"Tipo de pagamento\",\n      \"properties\": {\n        \"dtype\": \"category\",\n        \"num_unique_values\": 4,\n        \"samples\": [\n          \"boleto\",\n          \"cartao_debito\",\n          \"cartao_credito\"\n        ],\n        \"semantic_type\": \"\",\n        \"description\": \"\"\n      }\n    },\n    {\n      \"column\": \"Quantidade de parcelas\",\n      \"properties\": {\n        \"dtype\": \"number\",\n        \"std\": 2,\n        \"min\": 1,\n        \"max\": 24,\n        \"num_unique_values\": 15,\n        \"samples\": [\n          7,\n          14,\n          8\n        ],\n        \"semantic_type\": \"\",\n        \"description\": \"\"\n      }\n    },\n    {\n      \"column\": \"lat\",\n      \"properties\": {\n        \"dtype\": \"number\",\n        \"std\": 5.372399916530833,\n        \"min\": -30.17,\n        \"max\": 1.41,\n        \"num_unique_values\": 26,\n        \"samples\": [\n          -9.46,\n          -5.81,\n          -22.19\n        ],\n        \"semantic_type\": \"\",\n        \"description\": \"\"\n      }\n    },\n    {\n      \"column\": \"lon\",\n      \"properties\": {\n        \"dtype\": \"number\",\n        \"std\": 4.183180020544179,\n        \"min\": -70.55,\n        \"max\": -36.59,\n        \"num_unique_values\": 26,\n        \"samples\": [\n          -48.26,\n          -36.59,\n          -48.79\n        ],\n        \"semantic_type\": \"\",\n        \"description\": \"\"\n      }\n    }\n  ]\n}"
            }
          },
          "metadata": {},
          "execution_count": 7
        }
      ],
      "source": [
        "import pandas as pd\n",
        "\n",
        "url = \"https://raw.githubusercontent.com/alura-es-cursos/challenge1-data-science/refs/heads/main/base-de-dados-challenge-1/loja_1.csv\"\n",
        "url2 = \"https://raw.githubusercontent.com/alura-es-cursos/challenge1-data-science/refs/heads/main/base-de-dados-challenge-1/loja_2.csv\"\n",
        "url3 = \"https://raw.githubusercontent.com/alura-es-cursos/challenge1-data-science/refs/heads/main/base-de-dados-challenge-1/loja_3.csv\"\n",
        "url4 = \"https://raw.githubusercontent.com/alura-es-cursos/challenge1-data-science/refs/heads/main/base-de-dados-challenge-1/loja_4.csv\"\n",
        "\n",
        "loja = pd.read_csv(url)\n",
        "loja2 = pd.read_csv(url2)\n",
        "loja3 = pd.read_csv(url3)\n",
        "loja4 = pd.read_csv(url4)\n",
        "\n",
        "loja.head()"
      ]
    },
    {
      "cell_type": "markdown",
      "source": [
        "# Pré processamentos da analise\n"
      ],
      "metadata": {
        "id": "DLt7S3CYjlpp"
      }
    },
    {
      "cell_type": "code",
      "source": [
        "# inserido nome das lojas\n",
        "loja['loja'] = 'loja 1'\n",
        "loja2['loja'] = 'loja 2'\n",
        "loja3['loja'] = 'loja 3'\n",
        "loja4['loja'] = 'loja 4'\n",
        "\n",
        "#unindo os dataframe\n",
        "dados = pd.concat([loja, loja2, loja3, loja4], ignore_index=True)\n",
        "print(dados.head())"
      ],
      "metadata": {
        "colab": {
          "base_uri": "https://localhost:8080/"
        },
        "id": "zrSKe0zAiH0P",
        "outputId": "60667a98-d58f-4502-a7fd-f22b23ab39c8"
      },
      "execution_count": 8,
      "outputs": [
        {
          "output_type": "stream",
          "name": "stdout",
          "text": [
            "                 Produto Categoria do Produto    Preço      Frete  \\\n",
            "0     Assistente virtual          eletronicos   219.08   9.249790   \n",
            "1         Mesa de jantar               moveis   256.35  11.234305   \n",
            "2      Jogo de tabuleiro           brinquedos   279.51  21.262681   \n",
            "3            Micro-ondas     eletrodomesticos  1009.99  54.667344   \n",
            "4  Cadeira de escritório               moveis   446.99  26.964689   \n",
            "\n",
            "  Data da Compra        Vendedor Local da compra  Avaliação da compra  \\\n",
            "0     16/01/2021     Pedro Gomes              SP                    4   \n",
            "1     18/05/2022  Beatriz Moraes              RJ                    1   \n",
            "2     15/03/2021      João Souza              DF                    1   \n",
            "3     03/05/2022      João Souza              RS                    4   \n",
            "4     07/11/2020   Larissa Alves              MG                    5   \n",
            "\n",
            "  Tipo de pagamento  Quantidade de parcelas    lat    lon    loja  \n",
            "0    cartao_credito                       8 -22.19 -48.79  loja 1  \n",
            "1    cartao_credito                       4 -22.25 -42.66  loja 1  \n",
            "2    cartao_credito                       1 -15.83 -47.86  loja 1  \n",
            "3            boleto                       1 -30.17 -53.50  loja 1  \n",
            "4            boleto                       1 -18.10 -44.38  loja 1  \n"
          ]
        }
      ]
    },
    {
      "cell_type": "code",
      "source": [
        "# informações gerais\n",
        "print(dados.info())"
      ],
      "metadata": {
        "colab": {
          "base_uri": "https://localhost:8080/"
        },
        "id": "qAHElxQYi9-5",
        "outputId": "5f86475e-d789-4113-e6fc-53b689d25116"
      },
      "execution_count": 22,
      "outputs": [
        {
          "output_type": "stream",
          "name": "stdout",
          "text": [
            "<class 'pandas.core.frame.DataFrame'>\n",
            "RangeIndex: 9435 entries, 0 to 9434\n",
            "Data columns (total 13 columns):\n",
            " #   Column                  Non-Null Count  Dtype         \n",
            "---  ------                  --------------  -----         \n",
            " 0   Produto                 9435 non-null   object        \n",
            " 1   Categoria do Produto    9435 non-null   object        \n",
            " 2   Preço                   9435 non-null   float64       \n",
            " 3   Frete                   9435 non-null   float64       \n",
            " 4   Data da Compra          9435 non-null   datetime64[ns]\n",
            " 5   Vendedor                9435 non-null   object        \n",
            " 6   Local da compra         9435 non-null   object        \n",
            " 7   Avaliação da compra     9435 non-null   int64         \n",
            " 8   Tipo de pagamento       9435 non-null   object        \n",
            " 9   Quantidade de parcelas  9435 non-null   int64         \n",
            " 10  lat                     9435 non-null   float64       \n",
            " 11  lon                     9435 non-null   float64       \n",
            " 12  loja                    9435 non-null   object        \n",
            "dtypes: datetime64[ns](1), float64(4), int64(2), object(6)\n",
            "memory usage: 958.4+ KB\n",
            "None\n"
          ]
        }
      ]
    },
    {
      "cell_type": "code",
      "source": [
        "# Convertendo a coluna 'Data da Compra' para tipo datetime\n",
        "dados['Data da Compra'] = pd.to_datetime(dados['Data da Compra'])\n",
        "print(dados['Data da Compra'].dtype)"
      ],
      "metadata": {
        "colab": {
          "base_uri": "https://localhost:8080/"
        },
        "id": "0LHqBQHU8ImA",
        "outputId": "6650b1e0-6451-4afd-82eb-89170b0332ab"
      },
      "execution_count": 23,
      "outputs": [
        {
          "output_type": "stream",
          "name": "stdout",
          "text": [
            "datetime64[ns]\n"
          ]
        }
      ]
    },
    {
      "cell_type": "code",
      "source": [
        "# Verificação das colunas\n",
        "print(dados.columns)\n",
        "\n",
        "# Ver quantas linhas e colunas\n",
        "print(f\"O dataset tem {dados.shape[0]} linhas e {dados.shape[1]} colunas.\")"
      ],
      "metadata": {
        "colab": {
          "base_uri": "https://localhost:8080/"
        },
        "id": "g0zvDs2Mj83C",
        "outputId": "54c5b484-d691-482e-9888-9d3afcf1a4a2"
      },
      "execution_count": 24,
      "outputs": [
        {
          "output_type": "stream",
          "name": "stdout",
          "text": [
            "Index(['Produto', 'Categoria do Produto', 'Preço', 'Frete', 'Data da Compra',\n",
            "       'Vendedor', 'Local da compra', 'Avaliação da compra',\n",
            "       'Tipo de pagamento', 'Quantidade de parcelas', 'lat', 'lon', 'loja'],\n",
            "      dtype='object')\n",
            "O dataset tem 9435 linhas e 13 colunas.\n"
          ]
        }
      ]
    },
    {
      "cell_type": "code",
      "source": [
        "#Verificação de valores nulos datafrme\n",
        "print(dados.isnull().values.any())\n",
        "\n",
        "# print(dados.isnull().sum()/len(dados))*100\n",
        "percentage_null = (dados.isnull().sum()/len(dados))*100\n",
        "print(percentage_null)\n"
      ],
      "metadata": {
        "colab": {
          "base_uri": "https://localhost:8080/"
        },
        "id": "m1pwYCvglD6M",
        "outputId": "9f040c8e-47a9-4604-9adc-be202c106494"
      },
      "execution_count": 25,
      "outputs": [
        {
          "output_type": "stream",
          "name": "stdout",
          "text": [
            "False\n",
            "Produto                   0.0\n",
            "Categoria do Produto      0.0\n",
            "Preço                     0.0\n",
            "Frete                     0.0\n",
            "Data da Compra            0.0\n",
            "Vendedor                  0.0\n",
            "Local da compra           0.0\n",
            "Avaliação da compra       0.0\n",
            "Tipo de pagamento         0.0\n",
            "Quantidade de parcelas    0.0\n",
            "lat                       0.0\n",
            "lon                       0.0\n",
            "loja                      0.0\n",
            "dtype: float64\n"
          ]
        }
      ]
    },
    {
      "cell_type": "markdown",
      "source": [
        "## Salvar o DataFrame limpo"
      ],
      "metadata": {
        "id": "ZXpoCDqdDk3D"
      }
    },
    {
      "cell_type": "code",
      "source": [
        "dados.to_csv(\"dados_limpos.csv\", index=False)"
      ],
      "metadata": {
        "id": "CuMmJRsUDiYS"
      },
      "execution_count": 37,
      "outputs": []
    },
    {
      "cell_type": "markdown",
      "source": [
        "#1. Análise do faturamento\n"
      ],
      "metadata": {
        "id": "X62IW3KFUIYm"
      }
    },
    {
      "cell_type": "code",
      "source": [
        "# Crindo coluna faturamento\n",
        "dados['Faturamento'] = dados['Preço'] + dados['Frete']\n",
        "\n",
        "# Agrupar por loja e somar o faturamento\n",
        "faturamento_por_loja = dados.groupby('loja')['Faturamento'].sum().sort_values(ascending=False)\n",
        "\n",
        "# Atribuir faturamento_por_loja a faturamento para formatação\n",
        "faturamento = faturamento_por_loja\n",
        "faturamento_formatado = faturamento.apply(lambda x: f'R$ {x:,.2f}')\n",
        "# Exibir o resultado\n",
        "print(faturamento_formatado)\n"
      ],
      "metadata": {
        "id": "xykobSftV64I",
        "colab": {
          "base_uri": "https://localhost:8080/"
        },
        "outputId": "eb546f38-7c8f-4a77-cda7-eac2b268df69"
      },
      "execution_count": 36,
      "outputs": [
        {
          "output_type": "stream",
          "name": "stdout",
          "text": [
            "loja\n",
            "loja 1    R$ 1,616,347.09\n",
            "loja 2    R$ 1,567,773.22\n",
            "loja 3    R$ 1,542,047.69\n",
            "loja 4    R$ 1,458,253.46\n",
            "Name: Faturamento, dtype: object\n"
          ]
        }
      ]
    },
    {
      "cell_type": "markdown",
      "source": [
        "# 2. Vendas por Categoria"
      ],
      "metadata": {
        "id": "yZR6cOjXYSk1"
      }
    },
    {
      "cell_type": "code",
      "source": [
        "# Agrupamento  por categoria e somar os preços\n",
        "vendas_categoria = dados.groupby('Categoria do Produto')['Preço'].sum().sort_values(ascending=False)\n",
        "print(vendas_categoria)\n",
        "\n",
        "# Formatar o valor como moeda\n",
        "vendas_categoria_formatado = vendas_categoria.apply(lambda x: f'R$ {x:,.2f}'.replace(',', 'X').replace('.', ',').replace('X', '.'))\n",
        "\n",
        "print(vendas_categoria_formatado)"
      ],
      "metadata": {
        "colab": {
          "base_uri": "https://localhost:8080/"
        },
        "id": "NhkbUE8dE17k",
        "outputId": "20a6ee84-094c-48f7-f5f3-5feebe6a8815"
      },
      "execution_count": 43,
      "outputs": [
        {
          "output_type": "stream",
          "name": "stdout",
          "text": [
            "Categoria do Produto\n",
            "eletronicos              2214099.72\n",
            "eletrodomesticos         1766337.03\n",
            "moveis                   1010214.00\n",
            "instrumentos musicais     465029.67\n",
            "esporte e lazer           190635.39\n",
            "brinquedos                 98140.86\n",
            "utilidades domesticas      76773.38\n",
            "livros                     50260.74\n",
            "Name: Preço, dtype: float64\n",
            "Categoria do Produto\n",
            "eletronicos              R$ 2.214.099,72\n",
            "eletrodomesticos         R$ 1.766.337,03\n",
            "moveis                   R$ 1.010.214,00\n",
            "instrumentos musicais      R$ 465.029,67\n",
            "esporte e lazer            R$ 190.635,39\n",
            "brinquedos                  R$ 98.140,86\n",
            "utilidades domesticas       R$ 76.773,38\n",
            "livros                      R$ 50.260,74\n",
            "Name: Preço, dtype: object\n"
          ]
        }
      ]
    },
    {
      "cell_type": "markdown",
      "source": [
        "# 3. Média de Avaliação das Lojas"
      ],
      "metadata": {
        "id": "Rq6tU_xSY3jk"
      }
    },
    {
      "cell_type": "markdown",
      "source": [
        "🧠 Perguntas que queremos responder:\n",
        "Qual loja teve a melhor média de avaliação?\n",
        "\n",
        "Existe alguma loja com muitas avaliações ruins (ex: nota abaixo de 3)?\n",
        "\n",
        "Há diferença significativa entre as lojas?\n",
        "\n"
      ],
      "metadata": {
        "id": "NgO-GGRVHePS"
      }
    },
    {
      "cell_type": "code",
      "source": [
        "#Agrupar por loja e calcular a média das avaliações\n",
        "avaliacoes_lojas = dados.groupby('loja')['Avaliação da compra'].mean().sort_values(ascending=False)\n",
        "print(avaliacoes_lojas)\n"
      ],
      "metadata": {
        "id": "bh3jjjJwY5MU",
        "colab": {
          "base_uri": "https://localhost:8080/"
        },
        "outputId": "d194c056-d4d6-43a7-ac62-b4f104db8297"
      },
      "execution_count": 46,
      "outputs": [
        {
          "output_type": "stream",
          "name": "stdout",
          "text": [
            "loja\n",
            "loja 3    4.048326\n",
            "loja 2    4.037304\n",
            "loja 4    3.995759\n",
            "loja 1    3.976685\n",
            "Name: Avaliação da compra, dtype: float64\n"
          ]
        }
      ]
    },
    {
      "cell_type": "code",
      "source": [
        "# Contar quantas avaliações abaixo de 3 por loja\n",
        "avaliacoes_ruins = dados[dados['Avaliação da compra'] < 3]\n",
        "avaliacoes_ruins_por_loja = avaliacoes_ruins['loja'].value_counts()\n",
        "print(avaliacoes_ruins_por_loja)\n"
      ],
      "metadata": {
        "colab": {
          "base_uri": "https://localhost:8080/"
        },
        "id": "jI602Rm-IKFz",
        "outputId": "4e681570-bcb7-4d31-c057-c6b40e717571"
      },
      "execution_count": 47,
      "outputs": [
        {
          "output_type": "stream",
          "name": "stdout",
          "text": [
            "loja\n",
            "loja 1    405\n",
            "loja 4    395\n",
            "loja 3    376\n",
            "loja 2    366\n",
            "Name: count, dtype: int64\n"
          ]
        }
      ]
    },
    {
      "cell_type": "markdown",
      "source": [
        "💭 Pensamento por trás disso:\n",
        "A média das avaliações nos dá uma noção geral da satisfação do cliente.\n",
        "\n",
        "A quantidade de avaliações ruins nos alerta sobre possíveis problemas (produto, entrega, atendimento...).\n",
        "\n",
        "Cruzando as duas análises, conseguimos saber qual loja mais desagrada e por quê.\n",
        "\n"
      ],
      "metadata": {
        "id": "v7Ui4RylIZIT"
      }
    },
    {
      "cell_type": "code",
      "source": [],
      "metadata": {
        "id": "I0KkjPoTY88F"
      },
      "execution_count": null,
      "outputs": []
    },
    {
      "cell_type": "markdown",
      "source": [
        "# 4. Produtos Mais e Menos Vendidos"
      ],
      "metadata": {
        "id": "DmNp1KPBZCm-"
      }
    },
    {
      "cell_type": "markdown",
      "source": [
        "🎯 Objetivo da análise:\n",
        "Descobrir:\n",
        "\n",
        "Quais produtos têm maior volume de vendas?\n",
        "\n",
        "Quais produtos vendem pouco e talvez precisem de atenção (melhoria, promoção, substituição etc.)"
      ],
      "metadata": {
        "id": "vnihIhzIJRol"
      }
    },
    {
      "cell_type": "code",
      "source": [
        "# Contar quantas vezes o produto foi vendido\n",
        "vendas_produtos = dados['Produto'].value_counts()\n",
        "print(vendas_produtos)"
      ],
      "metadata": {
        "id": "qoyjqijQZHfF",
        "colab": {
          "base_uri": "https://localhost:8080/"
        },
        "outputId": "9d013e8b-bfe4-4180-9f0d-74909a52e7e6"
      },
      "execution_count": 48,
      "outputs": [
        {
          "output_type": "stream",
          "name": "stdout",
          "text": [
            "Produto\n",
            "Cômoda                         210\n",
            "Carrinho controle remoto       206\n",
            "Micro-ondas                    206\n",
            "Bateria                        203\n",
            "Cama king                      201\n",
            "Secadora de roupas             200\n",
            "Modelagem preditiva            200\n",
            "Jogo de panelas                200\n",
            "Cama box                       199\n",
            "Blocos de montar               199\n",
            "Celular Plus X42               198\n",
            "Guarda roupas                  197\n",
            "Pandeiro                       197\n",
            "Bola de basquete               197\n",
            "Bicicleta                      196\n",
            "Iniciando em programação       195\n",
            "Smart TV                       192\n",
            "Geladeira                      191\n",
            "Lava louças                    189\n",
            "Faqueiro                       189\n",
            "Violão                         188\n",
            "Impressora                     188\n",
            "Kit banquetas                  188\n",
            "Copo térmico                   187\n",
            "Fogão                          187\n",
            "TV Led UHD 4K                  187\n",
            "Corda de pular                 186\n",
            "Mesa de jantar                 185\n",
            "Bola de vôlei                  184\n",
            "Sofá retrátil                  182\n",
            "Cadeira de escritório          181\n",
            "Dashboards com Power BI        181\n",
            "Cubo mágico 8x8                180\n",
            "Xadrez de madeira              180\n",
            "Tablet ABXY                    179\n",
            "Lavadora de roupas             176\n",
            "Boneca bebê                    175\n",
            "Mesa de centro                 175\n",
            "Dinossauro Rex                 175\n",
            "Jogo de tabuleiro              175\n",
            "Fone de ouvido                 174\n",
            "Panela de pressão              172\n",
            "Smartwatch                     172\n",
            "Jogo de copos                  169\n",
            "Poltrona                       168\n",
            "Assistente virtual             167\n",
            "Ciência de dados com python    166\n",
            "Guitarra                       165\n",
            "Mochila                        163\n",
            "Headset                        158\n",
            "Celular ABXY                   157\n",
            "Name: count, dtype: int64\n"
          ]
        }
      ]
    },
    {
      "cell_type": "code",
      "source": [
        "# Produtos mais vendidos\n",
        "print(\"Produtos mais vendidos:\")\n",
        "print(vendas_produtos.head(10))\n",
        "\n",
        "# Produtos menos vendidos\n",
        "print(\"\\nProdutos menos vendidos:\")\n",
        "print(vendas_produtos.tail(10))"
      ],
      "metadata": {
        "id": "0Sw3sd4IZIGW",
        "colab": {
          "base_uri": "https://localhost:8080/"
        },
        "outputId": "1575d0d8-142a-4d75-ecbf-b9c5aaa897d8"
      },
      "execution_count": 49,
      "outputs": [
        {
          "output_type": "stream",
          "name": "stdout",
          "text": [
            "Produtos mais vendidos:\n",
            "Produto\n",
            "Cômoda                      210\n",
            "Carrinho controle remoto    206\n",
            "Micro-ondas                 206\n",
            "Bateria                     203\n",
            "Cama king                   201\n",
            "Secadora de roupas          200\n",
            "Modelagem preditiva         200\n",
            "Jogo de panelas             200\n",
            "Cama box                    199\n",
            "Blocos de montar            199\n",
            "Name: count, dtype: int64\n",
            "\n",
            "Produtos menos vendidos:\n",
            "Produto\n",
            "Panela de pressão              172\n",
            "Smartwatch                     172\n",
            "Jogo de copos                  169\n",
            "Poltrona                       168\n",
            "Assistente virtual             167\n",
            "Ciência de dados com python    166\n",
            "Guitarra                       165\n",
            "Mochila                        163\n",
            "Headset                        158\n",
            "Celular ABXY                   157\n",
            "Name: count, dtype: int64\n"
          ]
        }
      ]
    },
    {
      "cell_type": "code",
      "source": [
        "# Calclular o preço mediod de cada produto\n",
        "preco_medio = dados.groupby('Produto')['Preço'].mean()\n",
        "print(preco_medio)\n"
      ],
      "metadata": {
        "colab": {
          "base_uri": "https://localhost:8080/"
        },
        "id": "1m9eji8lJ3CF",
        "outputId": "b8092f04-db84-4ea8-dd8e-462bb7d813c5"
      },
      "execution_count": 55,
      "outputs": [
        {
          "output_type": "stream",
          "name": "stdout",
          "text": [
            "Produto\n",
            "Assistente virtual              275.189162\n",
            "Bateria                         970.810099\n",
            "Bicicleta                       656.368827\n",
            "Blocos de montar                 45.577186\n",
            "Bola de basquete                 66.051117\n",
            "Bola de vôlei                    65.938696\n",
            "Boneca bebê                      65.463143\n",
            "Cadeira de escritório           509.018287\n",
            "Cama box                        697.474472\n",
            "Cama king                       900.698308\n",
            "Carrinho controle remoto         95.585534\n",
            "Celular ABXY                   1341.068599\n",
            "Celular Plus X42               2700.682525\n",
            "Ciência de dados com python      72.584699\n",
            "Copo térmico                     60.587380\n",
            "Corda de pular                   21.994247\n",
            "Cubo mágico 8x8                  20.214889\n",
            "Cômoda                          370.915857\n",
            "Dashboards com Power BI          47.281105\n",
            "Dinossauro Rex                   23.717314\n",
            "Faqueiro                         60.390741\n",
            "Fogão                           933.129358\n",
            "Fone de ouvido                  126.562126\n",
            "Geladeira                      2687.169319\n",
            "Guarda roupas                   651.411624\n",
            "Guitarra                       1045.696182\n",
            "Headset                         191.967722\n",
            "Impressora                      398.771436\n",
            "Iniciando em programação         65.810718\n",
            "Jogo de copos                    44.054911\n",
            "Jogo de panelas                 203.376700\n",
            "Jogo de tabuleiro               247.252686\n",
            "Kit banquetas                   377.903085\n",
            "Lava louças                    1696.907831\n",
            "Lavadora de roupas             1836.888466\n",
            "Mesa de centro                  227.369200\n",
            "Mesa de jantar                  337.410270\n",
            "Micro-ondas                     748.870097\n",
            "Mochila                         131.420491\n",
            "Modelagem preditiva              84.103550\n",
            "Pandeiro                         85.709239\n",
            "Panela de pressão               100.226221\n",
            "Poltrona                        323.781845\n",
            "Secadora de roupas             1401.586550\n",
            "Smart TV                       2015.432917\n",
            "Smartwatch                      232.011047\n",
            "Sofá retrátil                   903.142033\n",
            "TV Led UHD 4K                  3083.704278\n",
            "Tablet ABXY                    1631.378547\n",
            "Violão                          417.716117\n",
            "Xadrez de madeira                38.143889\n",
            "Name: Preço, dtype: float64\n"
          ]
        }
      ]
    },
    {
      "cell_type": "code",
      "source": [
        "# Juntar as duas informações em um só DataFrame\n",
        "analise_produtos = pd.DataFrame({\n",
        "    'Quantidade Vendida': vendas_produtos, # Changed 'vendas_por_produto' to 'vendas_produtos'\n",
        "    'Preço Médio': preco_medio\n",
        "})\n"
      ],
      "metadata": {
        "id": "UMX0j14OKiH_"
      },
      "execution_count": 56,
      "outputs": []
    },
    {
      "cell_type": "code",
      "source": [
        "correlacao = analise_produtos['Quantidade Vendida'].corr(analise_produtos['Preço Médio'])\n",
        "print(f'Correlação entre Preço Médio e Quantidade Vendida: {correlacao}')\n"
      ],
      "metadata": {
        "colab": {
          "base_uri": "https://localhost:8080/"
        },
        "id": "bWmr5VbJLEtW",
        "outputId": "e7f8e3b0-ab5a-44af-b0e3-93c5ce741a54"
      },
      "execution_count": 57,
      "outputs": [
        {
          "output_type": "stream",
          "name": "stdout",
          "text": [
            "Correlação entre Preço Médio e Quantidade Vendida: 0.14555660107951646\n"
          ]
        }
      ]
    },
    {
      "cell_type": "markdown",
      "source": [
        "0.14 é positivo, então produtos mais caros tendem a vender um pouco mais, mas a relação é muito fraca."
      ],
      "metadata": {
        "id": "TfJ7E8kYLhKK"
      }
    },
    {
      "cell_type": "markdown",
      "source": [],
      "metadata": {
        "id": "0wSoR5ZqLLWH"
      }
    },
    {
      "cell_type": "markdown",
      "source": [],
      "metadata": {
        "id": "VWW2gdXiLqg3"
      }
    },
    {
      "cell_type": "markdown",
      "source": [
        "# 5. Frete Médio por Loja\n"
      ],
      "metadata": {
        "id": "Fl0cGi3bZKqU"
      }
    },
    {
      "cell_type": "markdown",
      "source": [
        "🧠 Pensamento Analítico – Etapas\n",
        "1. Pergunta do negócio\n",
        "Qual loja tem o maior ou menor custo médio de frete?"
      ],
      "metadata": {
        "id": "xxBNMZUkL4K4"
      }
    },
    {
      "cell_type": "code",
      "source": [
        "# Cálculo do frete médio por loja\n",
        "frete_loja1 = loja['Frete'].mean()\n",
        "frete_loja2 = loja2['Frete'].mean()\n",
        "frete_loja3 = loja3['Frete'].mean()\n",
        "frete_loja4 = loja4['Frete'].mean()\n",
        "\n",
        "# Exibir resultados\n",
        "print(f\"Frete médio Loja 1: R${frete_loja1:.2f}\")\n",
        "print(f\"Frete médio Loja 2: R${frete_loja2:.2f}\")\n",
        "print(f\"Frete médio Loja 3: R${frete_loja3:.2f}\")\n",
        "print(f\"Frete médio Loja 4: R${frete_loja4:.2f}\")\n"
      ],
      "metadata": {
        "id": "0tSdCie9ZQlt",
        "colab": {
          "base_uri": "https://localhost:8080/"
        },
        "outputId": "f3556f63-a848-4bd6-85cf-50fb4a257674"
      },
      "execution_count": 62,
      "outputs": [
        {
          "output_type": "stream",
          "name": "stdout",
          "text": [
            "Frete médio Loja 1: R$34.69\n",
            "Frete médio Loja 2: R$33.62\n",
            "Frete médio Loja 3: R$33.07\n",
            "Frete médio Loja 4: R$31.28\n"
          ]
        }
      ]
    },
    {
      "cell_type": "markdown",
      "source": [
        "# **VISUALIZAÇÃO GRAFICA**"
      ],
      "metadata": {
        "id": "8PCgoZwUUbdl"
      }
    },
    {
      "cell_type": "code",
      "source": [
        "import pandas as pd\n",
        "import seaborn as sns\n",
        "import matplotlib.pyplot as plt"
      ],
      "metadata": {
        "id": "BgR095I_UflF"
      },
      "execution_count": 67,
      "outputs": []
    },
    {
      "cell_type": "markdown",
      "source": [
        "## Gráfico 1 – Faturamento por loja"
      ],
      "metadata": {
        "id": "R6WfgN0qUlNN"
      }
    },
    {
      "cell_type": "code",
      "source": [
        "faturamento_por_loja = dados.groupby('loja')['Faturamento'].sum().sort_values(ascending=False)\n",
        "\n",
        "sns.barplot(x=faturamento_por_loja.index, y=faturamento_por_loja.values)\n",
        "plt.title('Faturamento Total por Loja')\n",
        "plt.ylabel('Faturamento (R$)')\n",
        "plt.xlabel('Loja')\n",
        "plt.xticks(rotation=45)\n",
        "plt.tight_layout()\n",
        "plt.show()"
      ],
      "metadata": {
        "colab": {
          "base_uri": "https://localhost:8080/",
          "height": 487
        },
        "id": "1Jj_rL4aU9aV",
        "outputId": "1049ca0d-32dc-419a-f32a-0d5e56c90b52"
      },
      "execution_count": 68,
      "outputs": [
        {
          "output_type": "display_data",
          "data": {
            "text/plain": [
              "<Figure size 640x480 with 1 Axes>"
            ],
            "image/png": "[encoded data removed]"
          },
          "metadata": {}
        }
      ]
    },
    {
      "cell_type": "markdown",
      "source": [
        "📊 Gráfico 2 – Categorias mais vendidas (pizza)"
      ],
      "metadata": {
        "id": "opb1KEbdVKu3"
      }
    },
    {
      "cell_type": "code",
      "source": [
        "vendas_categoria = dados.groupby('Categoria do Produto')['Preço'].sum().sort_values(ascending=False)\n",
        "\n",
        "plt.figure(figsize=(8, 8))\n",
        "vendas_categoria.plot.pie(autopct='%1.1f%%')\n",
        "plt.title('Participação das Categorias nas Vendas')\n",
        "plt.ylabel('')\n",
        "plt.show()\n"
      ],
      "metadata": {
        "colab": {
          "base_uri": "https://localhost:8080/",
          "height": 675
        },
        "id": "UfDRUJuKVPt-",
        "outputId": "b3e6b5b9-deb4-47ee-addb-d1aeca788ff1"
      },
      "execution_count": 69,
      "outputs": [
        {
          "output_type": "display_data",
          "data": {
            "text/plain": [
              "<Figure size 800x800 with 1 Axes>"
            ],
            "image/png": "[encoded data removed]"
          },
          "metadata": {}
        }
      ]
    },
    {
      "cell_type": "markdown",
      "source": [
        "📊 Gráfico 3 – Avaliação média por loja"
      ],
      "metadata": {
        "id": "MXdHMoDDVKtO"
      }
    },
    {
      "cell_type": "code",
      "source": [
        "avaliacoes_medias = dados.groupby('loja')['Avaliação da compra'].mean().sort_values(ascending=False)\n",
        "\n",
        "sns.barplot(x=avaliacoes_medias.index, y=avaliacoes_medias.values)\n",
        "plt.title('Média das Avaliações por Loja')\n",
        "plt.ylabel('Nota média')\n",
        "plt.xlabel('Loja')\n",
        "plt.ylim(0, 5)\n",
        "plt.show()\n"
      ],
      "metadata": {
        "colab": {
          "base_uri": "https://localhost:8080/",
          "height": 472
        },
        "id": "8ke7LGMhVcyG",
        "outputId": "c737cc9a-a944-445c-994c-941fea765129"
      },
      "execution_count": 70,
      "outputs": [
        {
          "output_type": "display_data",
          "data": {
            "text/plain": [
              "<Figure size 640x480 with 1 Axes>"
            ],
            "image/png": "[encoded data removed]"
          },
          "metadata": {}
        }
      ]
    }
  ]
}